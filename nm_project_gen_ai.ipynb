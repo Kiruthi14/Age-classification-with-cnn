{
  "nbformat": 4,
  "nbformat_minor": 0,
  "metadata": {
    "colab": {
      "provenance": [],
      "include_colab_link": true
    },
    "kernelspec": {
      "name": "python3",
      "display_name": "Python 3"
    },
    "language_info": {
      "name": "python"
    }
  },
  "cells": [
    {
      "cell_type": "markdown",
      "metadata": {
        "id": "view-in-github",
        "colab_type": "text"
      },
      "source": [
        "<a href=\"https://colab.research.google.com/github/Kiruthi14/Age-classification-with-cnn/blob/main/nm_project_gen_ai.ipynb\" target=\"_parent\"><img src=\"https://colab.research.google.com/assets/colab-badge.svg\" alt=\"Open In Colab\"/></a>"
      ]
    },
    {
      "cell_type": "code",
      "source": [
        "import cv2\n",
        "import numpy as np\n",
        "\n",
        "# Define age groups\n",
        "age_groups = [\"0-2\", \"4-6\", \"8-12\", \"15-20\", \"25-32\", \"38-43\", \"48-53\", \"60-100\"]\n",
        "\n",
        "def preprocess_image(image_path):\n",
        "    img = cv2.imread(image_path)\n",
        "    img = cv2.resize(img, (224, 224))  # Resize image to 224x224\n",
        "    img = img.astype('float32') / 255.0  # Normalize pixel values\n",
        "    return img\n",
        "\n",
        "def predict_age(image_path):\n",
        "    img = preprocess_image(image_path)\n",
        "\n",
        "    # Replace this part with your age prediction logic\n",
        "    # For demonstration, let's randomly pick an age group index\n",
        "    age_group_index = np.random.randint(0, len(age_groups))\n",
        "\n",
        "    predicted_age_group = age_groups[age_group_index]\n",
        "    return predicted_age_group\n",
        "\n",
        "# Test the model\n",
        "image_path = '/content/input.jpeg'\n",
        "predicted_age = predict_age(image_path)\n",
        "print(\"Predicted age group:\", predicted_age)\n"
      ],
      "metadata": {
        "colab": {
          "base_uri": "https://localhost:8080/"
        },
        "id": "h4YbQIT1_KZ8",
        "outputId": "7183a5d1-db15-4ce6-e00c-6cf5ebd08dee"
      },
      "execution_count": null,
      "outputs": [
        {
          "output_type": "stream",
          "name": "stdout",
          "text": [
            "Predicted age group: 60-100\n"
          ]
        }
      ]
    }
  ]
}